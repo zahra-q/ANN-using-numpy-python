{
 "cells": [
  {
   "cell_type": "markdown",
   "id": "b50452af",
   "metadata": {},
   "source": [
    "#### 1. Implementation of Artificial Neural Network Using Numpy & Python\n",
    "\n",
    "- Group Number 15\n",
    "\n",
    "\n",
    "- Group Members:\n",
    "    - Vinamrata Sankhe\n",
    "    \n",
    "    - Zahra Qureshi\n",
    "    \n",
    "    - Shriya Raj Mahan\n",
    "    \n",
    "    - Hemanth Rao\n",
    "\n",
    "\n",
    "- Using Python numpy library, make ANN models to perform:\n",
    "\n",
    "    - Addition with two inputs\n",
    "    \n",
    "    - Multiplication with two inputs"
   ]
  },
  {
   "cell_type": "markdown",
   "id": "b60628fb",
   "metadata": {},
   "source": [
    "#### 2. Abstract \n",
    "\n",
    "Artificial neural networks (ANNs) are based on the functioning of biological neurons and thus replicate the behavior of the human brain. They are a component of both machine learning and deep learning. Neural networks can be used for Regression Analysis, Classification, Natural Language Processing, Time Series Analysis and other applications.\n",
    "\n",
    "In our project we will be implementing the Addition and Multiplication neural network of two inputs using Numpy & Python. We will implement forward propagation, calculate loss, and use backward propagation to keep track of loss, update our parameters and weights in order to minimize error over epochs/iterations. We will finally test our code through input values and then train the network using our training dataset."
   ]
  },
  {
   "cell_type": "markdown",
   "id": "cb4be526",
   "metadata": {},
   "source": [
    "#### 3. Theory :-\n",
    "\n",
    "An Artificial Neural Network consists of layers of artificial neurons. It is a collection of inputs, a set of weights, and output. These inputs are converted into a single output, which can then be used as an input for next layer of neurons. Each neuron has a weight vector where we have a number of inputs. These inputs can either be the raw input features or the output of neurons from the previous layer.\n",
    "\n",
    "In an artificial neural network, we compute the weighted sum of all inputs in the input layer, and pass this sum through an activation function, also known as a nonlinear function. Activation functions can be of various types, like the Sigmoid Function, reLU, or Step function. This output can then be used in the next layer as input to that layer's neurons, and this process can be repeated for each layer in the network.\n",
    "\n",
    "The activation function we use will depend on the nature of the problem being solved. For a linear regression problem like the addition of numbers using ANN, we can use a linear or reLU function. can be used to accomplish non-linear behaviour in a neural network. For a classification problem where the outcome is a probability between 0 and 1, we use the sigmoid function. These functions allow the neural network to create more complicated systems while still being able to combine inputs in a simple manner.\n",
    "\n",
    "There are several types of Neural Networks, as described below:\n",
    "\n",
    "Convolutional neural networks:\n",
    "\n",
    "These neural networks are used mostly in speech recognition and natural language processing. They consist of three layers, named differently: the Convolution layer, Pooling layer, and Fully Connected layer. One or more convolutional layers can either be entirely connected or pooled. These convolutional layers create feature maps that record a region of image which is ultimately broken into rectangles and sent out to the nonlinear layers.\n",
    "\n",
    "\n",
    "\n",
    "Feed-forward neural networks:\n",
    "Feed Forward Neural Networks do not have a feedback loop, which makes them the simplest type of neural network. Information only flows forward to the output node. There may or may not be any hidden layers. \n",
    "\n",
    "\n",
    "Recurrent neural networks:\n",
    "RNNS, unlike Feed-forward networks, utilize back propagation. They use the feed forward mechanism similar to feed-forward networks, and then take the initial processed input and pass it back into the network. This is what gives these networks their predictive power. Each node in the RNN model acts as a memory cell, continuing the computation and implementation of operations. \n",
    "\n",
    " \n",
    "\n",
    "\n",
    "The training process consists of the following steps: \n",
    "\n",
    "1. Forward Propagation: \n",
    "Take the inputs from the input layer and multiply each input by the corresponding weight. Initially, random values of weights can be selected.\n",
    "Let Y = WiIi = W1I1+W2I2+W3I3 \n",
    "Pass the result through an activation function. For example, if we are using a sigmoid formula to calculate the neuron’s output, we normalize the result between 0 and 1: \n",
    "1/1 + e-y\n",
    "\n",
    "2. Back Propagation: \n",
    "Calculate the error i.e the difference between the actual output and the expected output. Depending on the error, adjust the weights by multiplying the error with the input and again with the gradient of the Sigmoid curve: \n",
    "Weight += Error Input Output (1-Output) ,here Output (1-Output) is derivative of sigmoid curve.\n",
    "\n",
    "3. Updating Parameters (Weights,Bias,Learning Rate):\n",
    "The learning rate, weights, biases are updated according to the error function.The parameters are kept modifying until the error is minimum, and predicted and target value are the closest. Performance metrics can be used to evaluate the performance of the network.\n",
    "        "
   ]
  },
  {
   "cell_type": "markdown",
   "id": "e5239b22",
   "metadata": {},
   "source": [
    "#### 4. Analysis Results & Explanation :-"
   ]
  },
  {
   "cell_type": "code",
   "execution_count": 27,
   "id": "7181851b",
   "metadata": {},
   "outputs": [
    {
     "name": "stdout",
     "output_type": "stream",
     "text": [
      "The prediction of 10 + 3 before training : 3.00\n",
      "epoch 1 ---> w = 1.16, loss = 38.50000\n",
      "epoch 2 ---> w = 0.98, loss = 0.92496\n",
      "epoch 3 ---> w = 1.00, loss = 0.02222\n",
      "epoch 4 ---> w = 1.00, loss = 0.00053\n",
      "epoch 5 ---> w = 1.00, loss = 0.00001\n",
      "epoch 6 ---> w = 1.00, loss = 0.00000\n",
      "The prediction of 10 + 3 after training: 13.00\n"
     ]
    }
   ],
   "source": [
    "\n",
    "# Addition using ANN\n",
    "import numpy as np \n",
    "\n",
    "a = np.array([1, 2, 3, 4, 5, 6, 7, 8, 9, 10], dtype=np.float32)\n",
    "b = np.array([2, 4, 6, 8, 10, 12, 14, 16, 18, 20], dtype=np.float32)\n",
    "z = np.add(a, b)\n",
    "\n",
    "W = 0.0\n",
    "\n",
    "def forward_pass(a, b):\n",
    "    fpass =  W * a + b\n",
    "    return fpass\n",
    "\n",
    "def loss_func(z, z_pred):\n",
    "    loss = ((z_pred - z)**2).mean()\n",
    "    return loss\n",
    "\n",
    "def grad_back(a, b, y_pred):\n",
    "    grad = np.dot(a + b, z_pred - z).mean()\n",
    "    return grad\n",
    "\n",
    "print(f'The prediction of 10 + 3 before training : {forward_pass(10, 3):.2f}')\n",
    "\n",
    "lr = 0.001\n",
    "eps = 6\n",
    "losses = []\n",
    "weights = []\n",
    "\n",
    "for i in range(eps):\n",
    "    \n",
    "    z_pred = forward_pass(a, b)\n",
    "\n",
    "    loss = loss_func(z, z_pred)\n",
    "    losses.append(loss)\n",
    "    \n",
    "    \n",
    "    d = grad_back(a, b, z_pred)\n",
    "\n",
    "    \n",
    "    W = W - lr * d\n",
    "    weights.append(W)\n",
    "    if i % 1 == 0:\n",
    "        print(f'epoch {i+1} ---> w = {W:.2f}, loss = {loss:.5f}')\n",
    "     \n",
    "print(f'The prediction of 10 + 3 after training: {forward_pass(10, 3):.2f}')"
   ]
  },
  {
   "cell_type": "markdown",
   "id": "65f41718",
   "metadata": {},
   "source": [
    "- We use Forward pass to calculate weighted sum which is used for model prediction.\n",
    "\n",
    "\n",
    "\n",
    "- Our Loss function method will calculate the MSE loss between actual output vs predicted value so that we can adjust our weights.\n",
    "\n",
    "\n",
    "\n",
    "- Gradient function method is used for calculating the gradient.\n",
    "\n",
    "\n",
    "\n",
    "- First, we carry out a forward pass, then compute the loss and calculate the gradients. Ultimately, we update the weights.\n",
    "\n",
    "\n",
    "\n",
    "- We keep track of 3 values, epochs weights and loss for each iteration. We use the values of epochs and loss in our loss curve to show the performance of our model. "
   ]
  },
  {
   "cell_type": "code",
   "execution_count": 28,
   "id": "0e8a5ce9",
   "metadata": {},
   "outputs": [
    {
     "data": {
      "image/png": "[encoded data removed]",
      "text/plain": [
       "<Figure size 720x360 with 1 Axes>"
      ]
     },
     "metadata": {
      "needs_background": "light"
     },
     "output_type": "display_data"
    }
   ],
   "source": [
    "# Loss vs Epoch\n",
    "\n",
    "import matplotlib.pyplot as plt\n",
    "plt.rcParams[\"figure.figsize\"] = (10,5)\n",
    "plt.plot(np.arange(0,6),losses)\n",
    "plt.xlabel('Epochs')\n",
    "plt.ylabel('Loss')\n",
    "plt.title('Loss vs Epoch')\n",
    "plt.show()"
   ]
  },
  {
   "cell_type": "markdown",
   "id": "e696d728",
   "metadata": {},
   "source": [
    "We use a Loss curve to demonstrate the performance of our model. In the ideal loss curve, the loss should decrease with time/epochs. A loss curve that does not decrease over time shows that your model may not be learning properly. From this curve, we get a picture of the training process and the direction in which the network learns. During an epoch, the loss function is calculated across every data sample and it is guaranteed to give the quantitative loss measure at the given epoch. The learning rate defines the size of the corrective steps that the model takes to adjust errors in each observation.\n",
    "\n",
    "A high learning rate shortens the training time but gives you lower ultimate accuracy. A smaller learning rate takes longer time, but with a higher accuracy. In our network, we can see that our model is converging since after each epoch, loss is approaching zero and we are getting close to the target values. "
   ]
  },
  {
   "cell_type": "code",
   "execution_count": 29,
   "id": "87fdd235",
   "metadata": {},
   "outputs": [
    {
     "name": "stdout",
     "output_type": "stream",
     "text": [
      "The Prediction of 2 * 3 before training: 0.00\n",
      "epoch 1 : w = 1.42, loss = 354.00000\n",
      "epoch 3 : w = 1.07, loss = 10.60173\n",
      "epoch 5 : w = 1.01, loss = 0.31750\n",
      "epoch 7 : w = 1.00, loss = 0.00951\n",
      "epoch 9 : w = 1.00, loss = 0.00028\n",
      "epoch 11 : w = 1.00, loss = 0.00001\n",
      "epoch 13 : w = 1.00, loss = 0.00000\n",
      "epoch 15 : w = 1.00, loss = 0.00000\n",
      "Prediction of 2 * 3 after training: 6.00\n"
     ]
    }
   ],
   "source": [
    "# Multiplication using ANN\n",
    "\n",
    "import numpy as np \n",
    "\n",
    "\n",
    "a = np.array([1, 2, 3, 4], dtype=np.float32)\n",
    "b = np.array([2, 4, 6, 8], dtype=np.float32)\n",
    "z = np.multiply(a, b)\n",
    "\n",
    "w = 0.0\n",
    "\n",
    "def forward_pass(a, b):\n",
    "    fpass = w * a * b\n",
    "    return fpass\n",
    "\n",
    "\n",
    "def loss_func(y, y_pred):\n",
    "    loss = ((z_pred - z)**2).mean()\n",
    "    return loss\n",
    "\n",
    "def grad_back(a, b, z_pred):\n",
    "    return np.dot(a * b, z_pred - z).mean()\n",
    "\n",
    "print(f'The Prediction of 2 * 3 before training: {forward_pass(2, 3):.2f}')\n",
    "\n",
    "lr = 0.001\n",
    "ep = 15\n",
    "losses = []\n",
    "weights = []\n",
    "\n",
    "for i in range(ep):\n",
    "    \n",
    "    z_pred = forward_pass(a, b)\n",
    "\n",
    "    \n",
    "    loss = loss_func(z, z_pred)\n",
    "    losses.append(loss)\n",
    "    \n",
    "    d = grad_back(a, b, z_pred)\n",
    "\n",
    "    \n",
    "    w = w - lr * d\n",
    "    weights.append(w)\n",
    "    \n",
    "    if i % 2 == 0:\n",
    "        print(f'epoch {i+1} : w = {w:.2f}, loss = {loss:.5f}')\n",
    "     \n",
    "print(f'Prediction of 2 * 3 after training: {forward_pass(2, 3):.2f}')"
   ]
  },
  {
   "cell_type": "markdown",
   "id": "bdd0f1ab",
   "metadata": {},
   "source": [
    "If we were to use a big multiplication function gradient, our network would be put into a state where all its hidden nodes will have a zero gradient. But by implementing log-normalization, multiplication can be made into addition and division with a constant value. It divides everything before the learning and multiplies after.\n",
    "\n",
    "Here, we use normal multiplication for this neural network. Our results are satisfactory, and it performs well on the testing data even though our training set was not very large."
   ]
  },
  {
   "cell_type": "code",
   "execution_count": 30,
   "id": "9d87ee9d",
   "metadata": {},
   "outputs": [
    {
     "data": {
      "image/png": "[encoded data removed]",
      "text/plain": [
       "<Figure size 720x360 with 1 Axes>"
      ]
     },
     "metadata": {
      "needs_background": "light"
     },
     "output_type": "display_data"
    }
   ],
   "source": [
    "#Loss vs Epoch\n",
    "\n",
    "import matplotlib.pyplot as plt\n",
    "\n",
    "plt.rcParams[\"figure.figsize\"] = (10,5)\n",
    "\n",
    "plt.plot(np.arange(0,15),losses)\n",
    "plt.xlabel('Epochs')\n",
    "plt.ylabel('Loss')\n",
    "plt.title('Loss vs Epoch')\n",
    "plt.show()"
   ]
  },
  {
   "cell_type": "markdown",
   "id": "b4761662",
   "metadata": {},
   "source": [
    "The learning rate, also known as the step size, is a hyperparameter whose value is adjusted in order to define the rate at which an algorithm will update its parameters. If the learning rate is high, the training time of the algorithm may be reduced but it might not minimize the cost function. A lower learning rate may result in longer training time since more epochs will be needed, but produces a higher accuracy for the model.\n",
    "\n",
    "As we can see in these graphs, for both our networks loss approaches zero with each epoch and we are getting close to the target values. "
   ]
  },
  {
   "cell_type": "markdown",
   "id": "61fa7164",
   "metadata": {},
   "source": [
    "#### 5. Conclusion"
   ]
  },
  {
   "cell_type": "markdown",
   "id": "5b42b47b",
   "metadata": {},
   "source": [
    "We conclude that the activation functions and hidden layers bring non-linearity to the network and are suitable for common machine learning tasks like classification, regression and clustering. The addition and multiplication neural network models were implemented using python and numpy, without the use of any machine learning or deep learning frameworks, considering the relatively low amount of training data, the network performed considerably well in approximating both the operations. The loss v/s epochs curve was plotted to understand how the epochs increase with parameters and how the loss decreases gradually leading us closer to the target values."
   ]
  }
 ],
 "metadata": {
  "kernelspec": {
   "display_name": "Python 3",
   "language": "python",
   "name": "python3"
  },
  "language_info": {
   "codemirror_mode": {
    "name": "ipython",
    "version": 3
   },
   "file_extension": ".py",
   "mimetype": "text/x-python",
   "name": "python",
   "nbconvert_exporter": "python",
   "pygments_lexer": "ipython3",
   "version": "3.8.8"
  }
 },
 "nbformat": 4,
 "nbformat_minor": 5
}
